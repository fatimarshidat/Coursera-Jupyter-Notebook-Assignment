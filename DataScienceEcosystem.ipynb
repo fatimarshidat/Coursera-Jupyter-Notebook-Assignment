{
 "cells": [
  {
   "cell_type": "markdown",
   "id": "b38d2be1-3054-4b60-aedf-60c8138421ad",
   "metadata": {},
   "source": [
    "# Data Science Tools and Ecosystem"
   ]
  },
  {
   "cell_type": "markdown",
   "id": "63a58103-d04c-45be-87c5-fe85f2c70537",
   "metadata": {},
   "source": [
    "## Author:\n",
    "Fatime Rshedat"
   ]
  },
  {
   "cell_type": "markdown",
   "id": "bbd25060-e2ea-4e22-9c2e-ffe0f8ae73f2",
   "metadata": {},
   "source": [
    "In this notebook, we will introduce tools used in Data Science."
   ]
  },
  {
   "cell_type": "markdown",
   "id": "c1058b19-1ef3-421d-a496-d97ead18dcc5",
   "metadata": {},
   "source": [
    "<b>Objectives:</b>\n",
    "- creating a list of most popular languages for DS\n",
    "- creating a list for most common libraries for DS\n",
    "- creating a one column table of DS tools\n",
    "- creating 2 examples of arithmetic expression in python \n",
    "- making an intro for the jupyter notebook assignment "
   ]
  },
  {
   "cell_type": "markdown",
   "id": "0050859f-a5c1-4aad-af80-55b20965daad",
   "metadata": {},
   "source": [
    "Most common programming languages used in Data Science are:\n",
    "1. Python \n",
    "2. R language \n",
    "3. SQL"
   ]
  },
  {
   "cell_type": "markdown",
   "id": "175ce454-b8e3-40fc-ac51-d6b1e05f3836",
   "metadata": {},
   "source": [
    "Most common libraries used in Data Science are:\n",
    "1. Pandas\n",
    "2. TenserFlow \n",
    "3. Keras"
   ]
  },
  {
   "cell_type": "markdown",
   "id": "1d908e8b-97db-41f5-8f73-e868a48eea3a",
   "metadata": {},
   "source": [
    "| Data Science Tools |\n",
    "| -------------------- |\n",
    "| R studio |\n",
    "| Apache Spark |\n",
    "| Tenser Flow |"
   ]
  },
  {
   "cell_type": "markdown",
   "id": "577d281e-ecd3-4b88-b5ec-78d4988ce546",
   "metadata": {
    "tags": []
   },
   "source": [
    "###  arithmetic expression in python such as:"
   ]
  },
  {
   "cell_type": "code",
   "execution_count": 11,
   "id": "4903f34e-aec6-42aa-802e-5e5f8545b6e8",
   "metadata": {},
   "outputs": [
    {
     "data": {
      "text/plain": [
       "17"
      ]
     },
     "execution_count": 11,
     "metadata": {},
     "output_type": "execute_result"
    }
   ],
   "source": [
    "# This a simple arithmetic expression to mutiply then add integers\n",
    "(3*4)+5"
   ]
  },
  {
   "cell_type": "code",
   "execution_count": 12,
   "id": "ab40273b-d0cb-464e-abb3-e14918b31e48",
   "metadata": {},
   "outputs": [
    {
     "name": "stdout",
     "output_type": "stream",
     "text": [
      "3.3333333333333335\n"
     ]
    }
   ],
   "source": [
    "#This will convert 200 minutes to hours by diving by 60\n",
    "min = 200\n",
    "hr = 60\n",
    "time = min/hr\n",
    "print(time)"
   ]
  }
 ],
 "metadata": {
  "kernelspec": {
   "display_name": "anaconda-2022.05-py39",
   "language": "python",
   "name": "conda-env-anaconda-2022.05-py39-py"
  },
  "language_info": {
   "codemirror_mode": {
    "name": "ipython",
    "version": 3
   },
   "file_extension": ".py",
   "mimetype": "text/x-python",
   "name": "python",
   "nbconvert_exporter": "python",
   "pygments_lexer": "ipython3",
   "version": "3.9.12"
  }
 },
 "nbformat": 4,
 "nbformat_minor": 5
}
